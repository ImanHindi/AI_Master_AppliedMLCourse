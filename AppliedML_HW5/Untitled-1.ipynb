{
 "cells": [
  {
   "cell_type": "code",
   "execution_count": 9,
   "metadata": {},
   "outputs": [],
   "source": [
    "import tensorflow as tf\n",
    "from tensorflow import keras\n",
    "from keras import layers,utils\n",
    "\n"
   ]
  },
  {
   "cell_type": "code",
   "execution_count": 10,
   "metadata": {},
   "outputs": [],
   "source": [
    "# Build the model\n",
    "input_wide = layers.Input(shape=[5]) # features 0 to 4\n",
    "input_deep = layers.Input(shape=[6]) # features 2 to 7\n",
    "norm_layer_wide = layers.Normalization()\n",
    "norm_layer_deep = layers.Normalization()\n",
    "norm_wide = norm_layer_wide(input_wide)\n",
    "norm_deep = norm_layer_deep(input_deep)\n",
    "hidden1 = layers.Dense(30, activation=\"relu\")(norm_deep)\n",
    "hidden2 = layers.Dense(30, activation=\"relu\")(hidden1)\n",
    "concat = layers.concatenate([norm_wide, hidden2])\n",
    "output = layers.Dense(1)(concat)\n",
    "aux_output = layers.Dense(1)(hidden2)\n",
    "\n",
    "model = keras.Model(inputs=[input_wide, input_deep],\n",
    "outputs=[output, aux_output])\n",
    "\n",
    "model = keras.Sequential([\n",
    "layers.Flatten(input_shape=[28, 28]),\n",
    "layers.Dense(300, activation=\"relu\"),\n",
    "layers.Dense(100, activation=\"relu\"),\n",
    "layers.Dense(10, activation=\"softmax\")\n",
    "])\n"
   ]
  },
  {
   "cell_type": "code",
   "execution_count": 11,
   "metadata": {},
   "outputs": [
    {
     "name": "stdout",
     "output_type": "stream",
     "text": [
      "You must install pydot (`pip install pydot`) and install graphviz (see instructions at https://graphviz.gitlab.io/download/) for plot_model/model_to_dot to work.\n"
     ]
    }
   ],
   "source": [
    "keras.utils.plot_model(\n",
    "model,\n",
    "\"my_model.png\",\n",
    "show_shapes=True)"
   ]
  }
 ],
 "metadata": {
  "kernelspec": {
   "display_name": "Python 3",
   "language": "python",
   "name": "python3"
  },
  "language_info": {
   "codemirror_mode": {
    "name": "ipython",
    "version": 3
   },
   "file_extension": ".py",
   "mimetype": "text/x-python",
   "name": "python",
   "nbconvert_exporter": "python",
   "pygments_lexer": "ipython3",
   "version": "3.10.4"
  },
  "orig_nbformat": 4,
  "vscode": {
   "interpreter": {
    "hash": "fb4569285eef3a3450cb62085a5b1e0da4bce0af555edc33dcf29baf3acc1368"
   }
  }
 },
 "nbformat": 4,
 "nbformat_minor": 2
}
