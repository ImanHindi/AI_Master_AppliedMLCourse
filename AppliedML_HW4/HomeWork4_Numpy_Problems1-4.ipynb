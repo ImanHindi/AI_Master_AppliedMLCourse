{
 "cells": [
  {
   "cell_type": "code",
   "execution_count": 62,
   "metadata": {},
   "outputs": [
    {
     "data": {
      "text/plain": [
       "23.5"
      ]
     },
     "execution_count": 62,
     "metadata": {},
     "output_type": "execute_result"
    }
   ],
   "source": [
    "#HW4:\n",
    "# Problem_1:NumPy 2-dim Arrays\n",
    "#1. Creates a 5x6 NumPy array of single-precision floating-point numbers with values ranging from 6.0 \n",
    "#to 35.0.\n",
    "#2. Converts the elements of this array to their corresponding square roots.\n",
    "#3. Adds to the elements of the five rows the values 1., 2., 3., 4., and 5, correspondingly.\n",
    "#4. Prints the resultant array’s arithmetic mean.\n",
    "\n",
    "import numpy as np\n",
    "from numpy.random import rand\n",
    "#arr=np.random(6,35,size=(5,6),dtype=np.float16)\n",
    "arr=np.arange(6.0,36.0,dtype=np.float32).reshape(5,6)\n",
    "arr_sqrt=np.sqrt(arr)\n",
    "#print(arr_sqrt)\n",
    "x=np.arange(1,6).reshape(5,1)\n",
    "x.shape\n",
    "arr.shape\n",
    "summation=x+arr\n",
    "np.mean(summation)\n"
   ]
  },
  {
   "cell_type": "code",
   "execution_count": null,
   "metadata": {},
   "outputs": [],
   "source": [
    "#HW4:\n",
    "# Problem_2:Solving a linear system of equations\n",
    "#Solve the following system of linear equations using NumPy Linear Algebra functions, i.e., find the values of \n",
    "#a, b, and c that satisfy the following three equations:\n",
    "#2𝑎 + 𝑏 + 3𝑐 = 13\n",
    "#−3𝑎 − 4𝑏 + 7𝑐 = 10\n",
    "#5𝑎 + 2𝑏 − 𝑐 = 6"
   ]
  },
  {
   "cell_type": "code",
   "execution_count": 69,
   "metadata": {},
   "outputs": [
    {
     "data": {
      "text/plain": [
       "True"
      ]
     },
     "execution_count": 69,
     "metadata": {},
     "output_type": "execute_result"
    }
   ],
   "source": [
    "from numpy.linalg import solve\n",
    "a1=np.array([[2,1,3],[-3,-4,7],[5,2,-1]])\n",
    "\n",
    "b1=np.array([13,10,6])\n",
    "x=solve(a=a1,b=b1)\n",
    "#check:\n",
    "np.allclose(np.dot(a1, x), b1)"
   ]
  },
  {
   "cell_type": "code",
   "execution_count": 90,
   "metadata": {},
   "outputs": [
    {
     "data": {
      "text/plain": [
       "array([[-0.18391325,  2.44231702, -6.78428709, -4.29308626,  1.92482785,\n",
       "         1.17869383,  0.18109918, -0.72888176],\n",
       "       [-0.8694845 ,  0.16910708,  2.39161539, -0.44940318, -0.42381174,\n",
       "         0.23836363, -0.59017235, -5.41356347],\n",
       "       [ 0.46973582, -0.9992837 , -4.07012063, -1.98666164, -2.94893735,\n",
       "        -0.65312105, -1.20977853, -5.74675514],\n",
       "       [-0.82723331, -5.45813524,  2.23428584,  4.58887553, -3.01150684,\n",
       "        -1.48431738, -0.24733197, -0.43820913],\n",
       "       [-6.96295915,  2.99626258, -2.5791208 , -1.72885598, -4.66876887,\n",
       "         3.20869313,  2.9288818 ,  6.13540054],\n",
       "       [ 1.57972609, -0.31422824, -1.64281876,  0.04564117,  4.67148886,\n",
       "        -0.84045096, -2.26472988, -1.61303437],\n",
       "       [ 2.02214446, -1.84219721, -0.47911462, -2.36483778, -2.02063933,\n",
       "         1.55157295, -0.66709788, -3.9636522 ],\n",
       "       [ 1.57244932, -3.37996668, -0.99945199,  1.89966882, -0.09683722,\n",
       "        -2.65889081, -1.96772759,  0.54969672]])"
      ]
     },
     "execution_count": 90,
     "metadata": {},
     "output_type": "execute_result"
    }
   ],
   "source": [
    "#HW4:\n",
    "#problem_3:Finding the sum of the center of a 3D array\n",
    "#Consider the following Python code that generates a three-dimensional array. This array has 1,000 \n",
    "#elements. Imagine that this array is a cube as shown blow.\n",
    "np.random.seed(7)\n",
    "a = np.random.randn(10, 10, 10)\n",
    "\n",
    "np.ndarray.sum(a[1:-1,1:-1,1:-1])\n"
   ]
  },
  {
   "cell_type": "code",
   "execution_count": 106,
   "metadata": {},
   "outputs": [
    {
     "data": {
      "text/plain": [
       "array([-2.05103081, -3.68253099,  4.69742992])"
      ]
     },
     "execution_count": 106,
     "metadata": {},
     "output_type": "execute_result"
    }
   ],
   "source": [
    "#HW4:\n",
    "#problem_4: Modifying Arrays\n",
    "#Problem 04-D: Modifying Arrays\n",
    "#Consider the following Python code that generates a two-dimensional array of ten rows and 3 columns.\n",
    "#np.random.seed(7)\n",
    "#a = np.random.randn(10, 3)\n",
    "#Write a Python code that replaces every element 𝑖: − 1 < 𝑖 < +1 with the value 0.0, then finds the sum \n",
    "#of each column\n",
    "np.random.seed(7)\n",
    "a = np.random.randn(10, 3)\n",
    "a[np.logical_and(a>-1 , a<1)]=0\n",
    "np.ndarray.sum(a,axis=0)\n",
    "\n",
    "\n"
   ]
  }
 ],
 "metadata": {
  "kernelspec": {
   "display_name": "Python 3",
   "language": "python",
   "name": "python3"
  },
  "language_info": {
   "codemirror_mode": {
    "name": "ipython",
    "version": 3
   },
   "file_extension": ".py",
   "mimetype": "text/x-python",
   "name": "python",
   "nbconvert_exporter": "python",
   "pygments_lexer": "ipython3",
   "version": "3.10.4"
  },
  "orig_nbformat": 4,
  "vscode": {
   "interpreter": {
    "hash": "fb4569285eef3a3450cb62085a5b1e0da4bce0af555edc33dcf29baf3acc1368"
   }
  }
 },
 "nbformat": 4,
 "nbformat_minor": 2
}
