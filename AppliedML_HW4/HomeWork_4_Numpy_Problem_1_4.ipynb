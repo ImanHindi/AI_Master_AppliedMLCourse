{
 "cells": [
  {
   "cell_type": "code",
   "execution_count": 4,
   "metadata": {},
   "outputs": [
    {
     "name": "stdout",
     "output_type": "stream",
     "text": [
      "[[2.4494898 2.6457512 2.828427  3.        3.1622777 3.3166249]\n",
      " [3.4641016 3.6055512 3.7416575 3.8729835 4.        4.1231055]\n",
      " [4.2426405 4.358899  4.472136  4.582576  4.690416  4.7958317]\n",
      " [4.8989797 5.        5.0990195 5.196152  5.2915025 5.3851647]\n",
      " [5.477226  5.5677643 5.656854  5.7445626 5.8309517 5.91608  ]]\n",
      "[[ 7.  8.  9. 10. 11. 12.]\n",
      " [14. 15. 16. 17. 18. 19.]\n",
      " [21. 22. 23. 24. 25. 26.]\n",
      " [28. 29. 30. 31. 32. 33.]\n",
      " [35. 36. 37. 38. 39. 40.]]\n"
     ]
    },
    {
     "data": {
      "text/plain": [
       "23.5"
      ]
     },
     "execution_count": 4,
     "metadata": {},
     "output_type": "execute_result"
    }
   ],
   "source": [
    "#HW4:\n",
    "# Problem_1:NumPy 2-dim Arrays\n",
    "#1. Creates a 5x6 NumPy array of single-precision floating-point numbers with values ranging from 6.0 \n",
    "#to 35.0.\n",
    "#2. Converts the elements of this array to their corresponding square roots.\n",
    "#3. Adds to the elements of the five rows the values 1., 2., 3., 4., and 5, correspondingly.\n",
    "#4. Prints the resultant array’s arithmetic mean.\n",
    "\n",
    "import numpy as np\n",
    "from numpy.random import rand\n",
    "#arr=np.random(6,35,size=(5,6),dtype=np.float16)\n",
    "arr=np.arange(6.0,36.0,dtype=np.float32).reshape(5,6)\n",
    "arr_sqrt=np.sqrt(arr)\n",
    "print(arr_sqrt)\n",
    "x=np.arange(1,6).reshape(5,1)\n",
    "x.shape\n",
    "arr.shape\n",
    "summation=x+arr\n",
    "print(summation)\n",
    "np.mean(summation)\n"
   ]
  },
  {
   "cell_type": "code",
   "execution_count": null,
   "metadata": {},
   "outputs": [],
   "source": [
    "#HW4:\n",
    "# Problem_2:Solving a linear system of equations\n",
    "#Solve the following system of linear equations using NumPy Linear Algebra functions, i.e., find the values of \n",
    "#a, b, and c that satisfy the following three equations:\n",
    "#2𝑎 + 𝑏 + 3𝑐 = 13\n",
    "#−3𝑎 − 4𝑏 + 7𝑐 = 10\n",
    "#5𝑎 + 2𝑏 − 𝑐 = 6"
   ]
  },
  {
   "cell_type": "code",
   "execution_count": 5,
   "metadata": {},
   "outputs": [
    {
     "name": "stdout",
     "output_type": "stream",
     "text": [
      "[1. 2. 3.]\n"
     ]
    },
    {
     "data": {
      "text/plain": [
       "True"
      ]
     },
     "execution_count": 5,
     "metadata": {},
     "output_type": "execute_result"
    }
   ],
   "source": [
    "from numpy.linalg import solve\n",
    "a1=np.array([[2,1,3],[-3,-4,7],[5,2,-1]])\n",
    "\n",
    "b1=np.array([13,10,6])\n",
    "x=solve(a=a1,b=b1)\n",
    "print(x)\n",
    "#check:\n",
    "np.allclose(np.dot(a1, x), b1)"
   ]
  },
  {
   "cell_type": "code",
   "execution_count": 6,
   "metadata": {},
   "outputs": [
    {
     "data": {
      "text/plain": [
       "-46.892828225679395"
      ]
     },
     "execution_count": 6,
     "metadata": {},
     "output_type": "execute_result"
    }
   ],
   "source": [
    "#HW4:\n",
    "#problem_3:Finding the sum of the center of a 3D array\n",
    "#Consider the following Python code that generates a three-dimensional array. This array has 1,000 \n",
    "#elements. Imagine that this array is a cube as shown blow.\n",
    "np.random.seed(7)\n",
    "a = np.random.randn(10, 10, 10)\n",
    "\n",
    "np.ndarray.sum(a[1:-1,1:-1,1:-1])\n"
   ]
  },
  {
   "cell_type": "code",
   "execution_count": 7,
   "metadata": {},
   "outputs": [
    {
     "data": {
      "text/plain": [
       "array([-2.05103081, -3.68253099,  4.69742992])"
      ]
     },
     "execution_count": 7,
     "metadata": {},
     "output_type": "execute_result"
    }
   ],
   "source": [
    "#HW4:\n",
    "#problem_4: Modifying Arrays\n",
    "#Problem 04-D: Modifying Arrays\n",
    "#Consider the following Python code that generates a two-dimensional array of ten rows and 3 columns.\n",
    "#np.random.seed(7)\n",
    "#a = np.random.randn(10, 3)\n",
    "#Write a Python code that replaces every element 𝑖: − 1 < 𝑖 < +1 with the value 0.0, then finds the sum \n",
    "#of each column\n",
    "np.random.seed(7)\n",
    "a = np.random.randn(10, 3)\n",
    "a[np.logical_and(a>-1 , a<1)]=0\n",
    "np.ndarray.sum(a,axis=0)\n",
    "\n",
    "\n"
   ]
  }
 ],
 "metadata": {
  "kernelspec": {
   "display_name": "Python 3",
   "language": "python",
   "name": "python3"
  },
  "language_info": {
   "codemirror_mode": {
    "name": "ipython",
    "version": 3
   },
   "file_extension": ".py",
   "mimetype": "text/x-python",
   "name": "python",
   "nbconvert_exporter": "python",
   "pygments_lexer": "ipython3",
   "version": "3.10.4"
  },
  "orig_nbformat": 4,
  "vscode": {
   "interpreter": {
    "hash": "fb4569285eef3a3450cb62085a5b1e0da4bce0af555edc33dcf29baf3acc1368"
   }
  }
 },
 "nbformat": 4,
 "nbformat_minor": 2
}
